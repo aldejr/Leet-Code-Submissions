{
  "nbformat": 4,
  "nbformat_minor": 0,
  "metadata": {
    "colab": {
      "provenance": []
    },
    "kernelspec": {
      "name": "python3",
      "display_name": "Python 3"
    },
    "language_info": {
      "name": "python"
    }
  },
  "cells": [
    {
      "cell_type": "code",
      "execution_count": 1,
      "metadata": {
        "id": "77zAaiuUUzmk"
      },
      "outputs": [],
      "source": [
        "def strStr(haystack, needle):\n",
        "  #Determine if needle is a substring\n",
        "  #of haystack\n",
        "  if needle in haystack:\n",
        "    #Get & deliver index if needle\n",
        "    #is in the haystack\n",
        "    return haystack.index(needle)\n",
        "  else:\n",
        "    #Otherwise deliver -1\n",
        "    return -1"
      ]
    },
    {
      "cell_type": "code",
      "source": [
        "haystack = \"sadbutsad\"\n",
        "needle = \"sad\"\n",
        "strStr(haystack, needle)"
      ],
      "metadata": {
        "colab": {
          "base_uri": "https://localhost:8080/"
        },
        "id": "I0dvyB0UVQ-T",
        "outputId": "2d1c5dd6-eba2-408a-dba2-ff26352c9228"
      },
      "execution_count": 2,
      "outputs": [
        {
          "output_type": "execute_result",
          "data": {
            "text/plain": [
              "0"
            ]
          },
          "metadata": {},
          "execution_count": 2
        }
      ]
    },
    {
      "cell_type": "code",
      "source": [
        "haystack = \"leetcode\"\n",
        "needle = \"leeto\"\n",
        "strStr(haystack, needle)"
      ],
      "metadata": {
        "colab": {
          "base_uri": "https://localhost:8080/"
        },
        "id": "4GNop4H6Vc9v",
        "outputId": "d8c495bf-3627-47a5-d3dc-c009519d00b4"
      },
      "execution_count": 3,
      "outputs": [
        {
          "output_type": "execute_result",
          "data": {
            "text/plain": [
              "-1"
            ]
          },
          "metadata": {},
          "execution_count": 3
        }
      ]
    }
  ]
}