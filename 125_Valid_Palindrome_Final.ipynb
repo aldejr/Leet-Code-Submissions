{
  "nbformat": 4,
  "nbformat_minor": 0,
  "metadata": {
    "colab": {
      "provenance": []
    },
    "kernelspec": {
      "name": "python3",
      "display_name": "Python 3"
    },
    "language_info": {
      "name": "python"
    }
  },
  "cells": [
    {
      "cell_type": "code",
      "execution_count": 3,
      "metadata": {
        "id": "XvH53fgrJdxe"
      },
      "outputs": [],
      "source": [
        "#Function Definition\n",
        "def isPalindrome(s):\n",
        "  #Build string of alphanumeric characters\n",
        "  #from the input parameter\n",
        "  check = ''\n",
        "  for char in s:\n",
        "    if char.isalnum() == True:\n",
        "      check += char.lower()\n",
        "    else:\n",
        "      pass\n",
        "  #Check to see if string is the same in\n",
        "  #reverse\n",
        "  return check == check[::-1]"
      ]
    },
    {
      "cell_type": "code",
      "source": [
        "#Example 1\n",
        "s = \"A man, a plan, a canal: Panama\"\n",
        "isPalindrome(s)"
      ],
      "metadata": {
        "colab": {
          "base_uri": "https://localhost:8080/"
        },
        "id": "djGXhU1DJxo4",
        "outputId": "3bb84637-b6f5-49f3-a912-0294b909b4e8"
      },
      "execution_count": 4,
      "outputs": [
        {
          "output_type": "execute_result",
          "data": {
            "text/plain": [
              "True"
            ]
          },
          "metadata": {},
          "execution_count": 4
        }
      ]
    },
    {
      "cell_type": "code",
      "source": [
        "#Example 2\n",
        "s = \"race a car\"\n",
        "isPalindrome(s)"
      ],
      "metadata": {
        "colab": {
          "base_uri": "https://localhost:8080/"
        },
        "id": "0hWEtlC2KFVd",
        "outputId": "de94bad2-bdd7-401d-cc97-f96cfaca978a"
      },
      "execution_count": 5,
      "outputs": [
        {
          "output_type": "execute_result",
          "data": {
            "text/plain": [
              "False"
            ]
          },
          "metadata": {},
          "execution_count": 5
        }
      ]
    },
    {
      "cell_type": "code",
      "source": [
        "#Example 3\n",
        "s = \" \"\n",
        "isPalindrome(s)"
      ],
      "metadata": {
        "colab": {
          "base_uri": "https://localhost:8080/"
        },
        "id": "qwsyeWcmKLKs",
        "outputId": "506a8033-fbd8-4e9e-ce39-d4a71b251188"
      },
      "execution_count": 6,
      "outputs": [
        {
          "output_type": "execute_result",
          "data": {
            "text/plain": [
              "True"
            ]
          },
          "metadata": {},
          "execution_count": 6
        }
      ]
    }
  ]
}