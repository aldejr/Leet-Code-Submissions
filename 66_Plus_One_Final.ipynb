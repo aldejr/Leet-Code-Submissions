{
  "nbformat": 4,
  "nbformat_minor": 0,
  "metadata": {
    "colab": {
      "provenance": []
    },
    "kernelspec": {
      "name": "python3",
      "display_name": "Python 3"
    },
    "language_info": {
      "name": "python"
    }
  },
  "cells": [
    {
      "cell_type": "code",
      "execution_count": 1,
      "metadata": {
        "id": "pFyySBH-bpc6"
      },
      "outputs": [],
      "source": [
        "def plusOne(digits):\n",
        "  #Convert digits to an integer\n",
        "  new = int(''.join(map(str,digits)))\n",
        "  #Apply transformation\n",
        "  new += 1\n",
        "  #Convert to new list for output\n",
        "  out_list = list(str(new))\n",
        "  out = list(map(int,out_list))\n",
        "  return out"
      ]
    },
    {
      "cell_type": "code",
      "source": [
        "digits = [1,2,3]\n",
        "plusOne(digits)"
      ],
      "metadata": {
        "colab": {
          "base_uri": "https://localhost:8080/"
        },
        "id": "60KbRB-Db9bA",
        "outputId": "c32537e7-a09b-4025-8380-76c713c11b8c"
      },
      "execution_count": 2,
      "outputs": [
        {
          "output_type": "execute_result",
          "data": {
            "text/plain": [
              "[1, 2, 4]"
            ]
          },
          "metadata": {},
          "execution_count": 2
        }
      ]
    },
    {
      "cell_type": "code",
      "source": [
        "digits = [4,3,2,1]\n",
        "plusOne(digits)"
      ],
      "metadata": {
        "colab": {
          "base_uri": "https://localhost:8080/"
        },
        "id": "Y1LTpZiTcDFs",
        "outputId": "cc421395-7c15-4c1f-bf48-5a4eaef36e62"
      },
      "execution_count": 3,
      "outputs": [
        {
          "output_type": "execute_result",
          "data": {
            "text/plain": [
              "[4, 3, 2, 2]"
            ]
          },
          "metadata": {},
          "execution_count": 3
        }
      ]
    },
    {
      "cell_type": "code",
      "source": [
        "digits = [9]\n",
        "plusOne(digits)"
      ],
      "metadata": {
        "colab": {
          "base_uri": "https://localhost:8080/"
        },
        "id": "uoYO1CRhcmD_",
        "outputId": "f10de19a-41f4-436b-b4ad-c3c6bba6f086"
      },
      "execution_count": 4,
      "outputs": [
        {
          "output_type": "execute_result",
          "data": {
            "text/plain": [
              "[1, 0]"
            ]
          },
          "metadata": {},
          "execution_count": 4
        }
      ]
    }
  ]
}