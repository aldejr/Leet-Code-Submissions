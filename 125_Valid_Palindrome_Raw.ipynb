{
  "nbformat": 4,
  "nbformat_minor": 0,
  "metadata": {
    "colab": {
      "provenance": []
    },
    "kernelspec": {
      "name": "python3",
      "display_name": "Python 3"
    },
    "language_info": {
      "name": "python"
    }
  },
  "cells": [
    {
      "cell_type": "code",
      "execution_count": 5,
      "metadata": {
        "colab": {
          "base_uri": "https://localhost:8080/"
        },
        "id": "4LQqHwdcSmaO",
        "outputId": "51792164-7650-4684-b021-0cd9bd096abe"
      },
      "outputs": [
        {
          "output_type": "stream",
          "name": "stdout",
          "text": [
            "f\n",
            "f\n",
            "l\n",
            "l\n",
            "o\n",
            "w\n"
          ]
        }
      ],
      "source": [
        "strs = [\"flower\",\"flow\",\"flight\"]\n",
        "\n",
        "check = min(strs, key=len)\n",
        "strs.remove(check)\n",
        "\n",
        "out\n",
        "for char in check:\n",
        "  for string in strs:\n",
        "    if char in string:\n",
        "      print(char)\n",
        "    else:\n",
        "      pass\n",
        "\n",
        "\n"
      ]
    },
    {
      "cell_type": "code",
      "source": [],
      "metadata": {
        "id": "MqFbB9zvZqIH"
      },
      "execution_count": null,
      "outputs": []
    },
    {
      "cell_type": "code",
      "source": [
        "s = \"A man, a plan, a canal: Panama\"\n",
        "\n",
        "def isPalindrome(s):\n",
        "  check = ''\n",
        "  for char in s:\n",
        "    if char.isalnum() == True:\n",
        "      check += char.lower()\n",
        "    else:\n",
        "      pass\n",
        "  return check == check[::-1], check\n",
        "\n",
        "isPalindrome(s)\n",
        "\n"
      ],
      "metadata": {
        "colab": {
          "base_uri": "https://localhost:8080/"
        },
        "id": "lNq3jfKIYMJZ",
        "outputId": "7958032e-9fa8-4745-a1ec-8c2984c0c08d"
      },
      "execution_count": 9,
      "outputs": [
        {
          "output_type": "execute_result",
          "data": {
            "text/plain": [
              "(True, 'amanaplanacanalpanama')"
            ]
          },
          "metadata": {},
          "execution_count": 9
        }
      ]
    },
    {
      "cell_type": "code",
      "source": [
        "s = \"0P\"\n",
        "\n",
        "isPalindrome(s)"
      ],
      "metadata": {
        "colab": {
          "base_uri": "https://localhost:8080/"
        },
        "id": "80hbDkXYIwmg",
        "outputId": "d2244593-9e0b-4a88-cbe9-c21070fcbcea"
      },
      "execution_count": 10,
      "outputs": [
        {
          "output_type": "execute_result",
          "data": {
            "text/plain": [
              "(False, '0p')"
            ]
          },
          "metadata": {},
          "execution_count": 10
        }
      ]
    }
  ]
}