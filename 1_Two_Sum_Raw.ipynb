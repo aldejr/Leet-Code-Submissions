{
  "nbformat": 4,
  "nbformat_minor": 0,
  "metadata": {
    "colab": {
      "provenance": []
    },
    "kernelspec": {
      "name": "python3",
      "display_name": "Python 3"
    },
    "language_info": {
      "name": "python"
    }
  },
  "cells": [
    {
      "cell_type": "code",
      "execution_count": null,
      "metadata": {
        "id": "kNAI0DkrSrQk"
      },
      "outputs": [],
      "source": [
        "\n",
        "\n",
        "def two_sum(nums, target):\n",
        "  out = []\n",
        "  for i in range(len(nums)):\n",
        "    addend1 = nums[i]\n",
        "    new_nums = nums[i+1:]\n",
        "    for addend2 in new_nums:\n",
        "      sum = addend1 + addend2\n",
        "      if sum == target and nums.index(addend2) != i:\n",
        "        out.append(i)\n",
        "        out.append(nums.index(addend2))\n",
        "        break\n",
        "      else:\n",
        "        continue\n",
        "  return out\n",
        "\n"
      ]
    },
    {
      "cell_type": "code",
      "source": [
        "nums = [2,7,11,15]\n",
        "target = 9\n",
        "\n",
        "print(two_sum(nums, target))"
      ],
      "metadata": {
        "colab": {
          "base_uri": "https://localhost:8080/"
        },
        "id": "fGzmnfaOVlfl",
        "outputId": "29bbbb7a-dca5-4d82-dae2-ee29b0d4402f"
      },
      "execution_count": null,
      "outputs": [
        {
          "output_type": "stream",
          "name": "stdout",
          "text": [
            "[0, 1]\n"
          ]
        }
      ]
    },
    {
      "cell_type": "code",
      "source": [
        "nums = [3,2,4]\n",
        "target = 6\n",
        "\n",
        "print(two_sum(nums, target))"
      ],
      "metadata": {
        "colab": {
          "base_uri": "https://localhost:8080/"
        },
        "id": "eU8FZX2cVprG",
        "outputId": "6873bf9b-b933-40bb-f7b3-ffea3765e858"
      },
      "execution_count": null,
      "outputs": [
        {
          "output_type": "stream",
          "name": "stdout",
          "text": [
            "[1, 2]\n"
          ]
        }
      ]
    },
    {
      "cell_type": "code",
      "source": [
        "nums = [3,3]\n",
        "for num in nums:\n",
        "  print(nums.index(num))\n",
        "#target = 6\n",
        "#print(two_sum(nums, target))"
      ],
      "metadata": {
        "colab": {
          "base_uri": "https://localhost:8080/"
        },
        "id": "8tPfl0XhV3M9",
        "outputId": "1d8c015c-8c74-49df-cd62-d9da76dba86b"
      },
      "execution_count": null,
      "outputs": [
        {
          "output_type": "stream",
          "name": "stdout",
          "text": [
            "0\n",
            "0\n"
          ]
        }
      ]
    },
    {
      "cell_type": "code",
      "source": [
        "my_list = [3,3]\n",
        "\n",
        "\n"
      ],
      "metadata": {
        "colab": {
          "base_uri": "https://localhost:8080/"
        },
        "id": "zwcgs9LEXbbq",
        "outputId": "444e83ea-6429-4b11-adef-b65a1529644f"
      },
      "execution_count": null,
      "outputs": [
        {
          "output_type": "stream",
          "name": "stdout",
          "text": [
            "[(0, 3), (1, 3)]\n"
          ]
        }
      ]
    },
    {
      "cell_type": "code",
      "source": [
        "\n",
        "\n",
        "\n",
        "def two_sum(nums, target):\n",
        "  nums_enumerated = list(enumerate(nums))\n",
        "  out = []\n",
        "  for ne in nums_enumerated:\n",
        "    x = nums_enumerated.index(ne) + 1\n",
        "    new_nums = nums_enumerated[x:]\n",
        "    addend1 = ne[1]\n",
        "    for nn in new_nums:\n",
        "      addend2 = nn[1]\n",
        "      sum = addend1 + addend2\n",
        "      if sum == 6:\n",
        "        out.append(ne[0])\n",
        "        out.append(nn[0])\n",
        "  return out\n"
      ],
      "metadata": {
        "id": "Hq8KTqCXYPAm"
      },
      "execution_count": null,
      "outputs": []
    },
    {
      "cell_type": "code",
      "source": [
        "nums = [3,3]\n",
        "target = 6\n",
        "\n",
        "two_sum(nums, target)"
      ],
      "metadata": {
        "colab": {
          "base_uri": "https://localhost:8080/"
        },
        "id": "zx27-qH5bEe1",
        "outputId": "7f487220-bbd5-46d1-ccc5-790435d98675"
      },
      "execution_count": null,
      "outputs": [
        {
          "output_type": "execute_result",
          "data": {
            "text/plain": [
              "[0, 1]"
            ]
          },
          "metadata": {},
          "execution_count": 51
        }
      ]
    },
    {
      "cell_type": "code",
      "source": [
        "nums = [3,2,4]\n",
        "target = 6\n",
        "\n",
        "two_sum(nums, target)"
      ],
      "metadata": {
        "colab": {
          "base_uri": "https://localhost:8080/"
        },
        "id": "Htoxuxa2bIjz",
        "outputId": "9b613dc2-90b1-4228-af9e-9bf23afad0dd"
      },
      "execution_count": null,
      "outputs": [
        {
          "output_type": "execute_result",
          "data": {
            "text/plain": [
              "[1, 2]"
            ]
          },
          "metadata": {},
          "execution_count": 52
        }
      ]
    },
    {
      "cell_type": "code",
      "source": [
        "nums = [2,7,11,15]\n",
        "target = 9\n",
        "\n",
        "two_sum(nums, target)"
      ],
      "metadata": {
        "colab": {
          "base_uri": "https://localhost:8080/"
        },
        "id": "UOpQ97CsbPu7",
        "outputId": "9ee6aa97-1a2f-4ea8-f461-898add72b7f9"
      },
      "execution_count": null,
      "outputs": [
        {
          "output_type": "execute_result",
          "data": {
            "text/plain": [
              "[]"
            ]
          },
          "metadata": {},
          "execution_count": 54
        }
      ]
    },
    {
      "cell_type": "code",
      "source": [
        "nums = [2,7,11,15]\n",
        "target = 9\n",
        "\n",
        "def two_sum(nums, target):\n",
        "  out = []\n",
        "  nums_enumerated = list(enumerate(nums))\n",
        "  for ne in nums_enumerated:\n",
        "    #Wrangle first integer\n",
        "    addend1 = ne[1]\n",
        "    x = nums_enumerated.index(ne) + 1\n",
        "    new_nums = nums_enumerated[x:]\n",
        "    for nn in new_nums:\n",
        "      #Wrangle second integer\n",
        "      addend2 = nn[1]\n",
        "      sum = addend1 + addend2\n",
        "      if sum == target:\n",
        "        out.append(ne[0])\n",
        "        out.append(nn[0])\n",
        "\n",
        "  return out\n",
        "\n",
        "two_sum(nums, target)"
      ],
      "metadata": {
        "colab": {
          "base_uri": "https://localhost:8080/"
        },
        "id": "Qbv1I2Sybh90",
        "outputId": "1197daea-b776-4f96-f6c7-7af2cea648ae"
      },
      "execution_count": null,
      "outputs": [
        {
          "output_type": "execute_result",
          "data": {
            "text/plain": [
              "[0, 1]"
            ]
          },
          "metadata": {},
          "execution_count": 60
        }
      ]
    },
    {
      "cell_type": "code",
      "source": [
        "nums = [2,7,11,15]\n",
        "target = 9\n",
        "\n",
        "two_sum(nums, target)"
      ],
      "metadata": {
        "colab": {
          "base_uri": "https://localhost:8080/"
        },
        "id": "qFRTf0ipcTRs",
        "outputId": "9a561456-8996-47ef-9bf8-9e73031760d5"
      },
      "execution_count": null,
      "outputs": [
        {
          "output_type": "execute_result",
          "data": {
            "text/plain": [
              "[0, 1]"
            ]
          },
          "metadata": {},
          "execution_count": 61
        }
      ]
    },
    {
      "cell_type": "code",
      "source": [
        "nums = [3,2,4]\n",
        "target = 6\n",
        "\n",
        "two_sum(nums, target)"
      ],
      "metadata": {
        "colab": {
          "base_uri": "https://localhost:8080/"
        },
        "id": "65jtAVXqcXLb",
        "outputId": "0475bc2e-ac38-46a0-8c39-46452edd0fc3"
      },
      "execution_count": null,
      "outputs": [
        {
          "output_type": "execute_result",
          "data": {
            "text/plain": [
              "[1, 2]"
            ]
          },
          "metadata": {},
          "execution_count": 62
        }
      ]
    },
    {
      "cell_type": "code",
      "source": [
        "nums = [3,3]\n",
        "target = 6\n",
        "\n",
        "two_sum(nums, target)"
      ],
      "metadata": {
        "id": "yP2rOKAvccas",
        "outputId": "12f83522-f496-4fd9-b72e-19178e8861b1",
        "colab": {
          "base_uri": "https://localhost:8080/"
        }
      },
      "execution_count": null,
      "outputs": [
        {
          "output_type": "execute_result",
          "data": {
            "text/plain": [
              "[0, 1]"
            ]
          },
          "metadata": {},
          "execution_count": 63
        }
      ]
    }
  ]
}