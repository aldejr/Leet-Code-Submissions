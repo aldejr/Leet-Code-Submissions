{
  "nbformat": 4,
  "nbformat_minor": 0,
  "metadata": {
    "colab": {
      "provenance": []
    },
    "kernelspec": {
      "name": "python3",
      "display_name": "Python 3"
    },
    "language_info": {
      "name": "python"
    }
  },
  "cells": [
    {
      "cell_type": "code",
      "source": [
        "nums = [2,7,11,15]\n",
        "target = 9\n",
        "\n",
        "def two_sum(nums, target):\n",
        "  out = []\n",
        "  nums_enumerated = list(enumerate(nums))\n",
        "  for ne in nums_enumerated:\n",
        "    #Wrangle first integer\n",
        "    addend1 = ne[1]\n",
        "    x = nums_enumerated.index(ne) + 1\n",
        "    new_nums = nums_enumerated[x:]\n",
        "    for nn in new_nums:\n",
        "      #Wrangle second integer\n",
        "      addend2 = nn[1]\n",
        "      sum = addend1 + addend2\n",
        "      if sum == target:\n",
        "        out.append(ne[0])\n",
        "        out.append(nn[0])\n",
        "\n",
        "  return out\n",
        "\n",
        "two_sum(nums, target)"
      ],
      "metadata": {
        "colab": {
          "base_uri": "https://localhost:8080/"
        },
        "id": "Qbv1I2Sybh90",
        "outputId": "ddb43dcf-8950-4f55-cb33-7239602521d0"
      },
      "execution_count": 1,
      "outputs": [
        {
          "output_type": "execute_result",
          "data": {
            "text/plain": [
              "[0, 1]"
            ]
          },
          "metadata": {},
          "execution_count": 1
        }
      ]
    }
  ]
}