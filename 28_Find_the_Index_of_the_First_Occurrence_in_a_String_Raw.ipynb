{
  "nbformat": 4,
  "nbformat_minor": 0,
  "metadata": {
    "colab": {
      "provenance": []
    },
    "kernelspec": {
      "name": "python3",
      "display_name": "Python 3"
    },
    "language_info": {
      "name": "python"
    }
  },
  "cells": [
    {
      "cell_type": "code",
      "execution_count": 1,
      "metadata": {
        "colab": {
          "base_uri": "https://localhost:8080/"
        },
        "id": "47bcYvTNTcmf",
        "outputId": "5452208a-cb20-47b9-a4a0-0c7853fb0929"
      },
      "outputs": [
        {
          "output_type": "stream",
          "name": "stdout",
          "text": [
            "Noice!\n"
          ]
        }
      ],
      "source": [
        "haystack = \"sadbutsad\"\n",
        "needle = \"sad\"\n",
        "\n",
        "if needle in haystack:\n",
        "  print(\"Noice!\")"
      ]
    },
    {
      "cell_type": "code",
      "source": [
        "if needle in haystack:\n",
        "  print(haystack.index(needle))"
      ],
      "metadata": {
        "colab": {
          "base_uri": "https://localhost:8080/"
        },
        "id": "95BY9xCOUBPH",
        "outputId": "3ee479a0-a50a-4b61-a333-b1e2ce5da41e"
      },
      "execution_count": 2,
      "outputs": [
        {
          "output_type": "stream",
          "name": "stdout",
          "text": [
            "0\n"
          ]
        }
      ]
    },
    {
      "cell_type": "code",
      "source": [
        "def strStr(haystack, needle):\n",
        "  if needle in haystack:\n",
        "    return haystack.index(needle)\n",
        "  else:\n",
        "    return -1"
      ],
      "metadata": {
        "id": "_rsh0S-rUIcY"
      },
      "execution_count": 3,
      "outputs": []
    }
  ]
}