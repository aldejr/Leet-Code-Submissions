{
  "nbformat": 4,
  "nbformat_minor": 0,
  "metadata": {
    "colab": {
      "provenance": []
    },
    "kernelspec": {
      "name": "python3",
      "display_name": "Python 3"
    },
    "language_info": {
      "name": "python"
    }
  },
  "cells": [
    {
      "cell_type": "code",
      "execution_count": null,
      "metadata": {
        "id": "Qe_v0IVmAo4a"
      },
      "outputs": [],
      "source": [
        "def roman_to_integer(s):\n",
        "  #Wrangle the first numeral, establish it as a base\n",
        "  x = my_dict[s[0]]\n",
        "  counter = 0\n",
        "  counter += x\n",
        "  #Iterate through the rest, add values for each character\n",
        "  #Apply conditions such as IX = 9 etc.\n",
        "  for i in range(1,len(s)):\n",
        "    char = s[i]\n",
        "    char_prev = s[i-1]\n",
        "    check = char_prev + char\n",
        "    if check == \"IV\":\n",
        "      counter += 3\n",
        "    elif check == \"IX\":\n",
        "      counter += 8\n",
        "    elif check == \"CM\":\n",
        "      counter += 800\n",
        "    elif check == \"CD\":\n",
        "      counter += 300\n",
        "    elif check == \"IX\":\n",
        "      counter += 8\n",
        "    elif check == \"XC\":\n",
        "      counter += 80\n",
        "    elif check == \"XL\":\n",
        "      counter += 30\n",
        "    else:\n",
        "      counter += my_dict[s[i]]\n",
        "  return counter"
      ]
    }
  ]
}