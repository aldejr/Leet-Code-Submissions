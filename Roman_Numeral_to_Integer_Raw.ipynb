{
  "nbformat": 4,
  "nbformat_minor": 0,
  "metadata": {
    "colab": {
      "provenance": []
    },
    "kernelspec": {
      "name": "python3",
      "display_name": "Python 3"
    },
    "language_info": {
      "name": "python"
    }
  },
  "cells": [
    {
      "cell_type": "code",
      "execution_count": 1,
      "metadata": {
        "id": "Q6xfJk0G1oYL"
      },
      "outputs": [],
      "source": [
        "my_dict = {\n",
        "    \"I\":1,\n",
        "    \"V\":5,\n",
        "    \"X\":10,\n",
        "    \"L\":50,\n",
        "    \"C\":100,\n",
        "    \"D\":500,\n",
        "    \"M\":1000\n",
        "}"
      ]
    },
    {
      "cell_type": "code",
      "source": [
        "s = \"III\"\n",
        "\n",
        "counter = 0\n",
        "for char in s:\n",
        "  counter += my_dict[char]\n",
        "print(counter)"
      ],
      "metadata": {
        "colab": {
          "base_uri": "https://localhost:8080/"
        },
        "id": "skJCw-gO3jiK",
        "outputId": "5abe19f5-5cd7-4d8d-8507-c5194d976587"
      },
      "execution_count": 4,
      "outputs": [
        {
          "output_type": "stream",
          "name": "stdout",
          "text": [
            "3\n"
          ]
        }
      ]
    },
    {
      "cell_type": "code",
      "source": [
        "s = \"MCMXCIV\"\n",
        "x = my_dict[s[0]]\n",
        "counter = 0\n",
        "counter += x\n",
        "for i in range(1,len(s)):\n",
        "  char = s[i]\n",
        "  char_prev = s[i-1]\n",
        "  check = char_prev + char\n",
        "  print(check)\n",
        "  if check == \"IV\":\n",
        "    counter += 3\n",
        "  elif check == \"IX\":\n",
        "    counter += 8\n",
        "  elif check == \"CM\":\n",
        "    counter += 800\n",
        "  elif check == \"CD\":\n",
        "    counter += 300\n",
        "  elif check == \"IX\":\n",
        "    counter += 8\n",
        "  elif check == \"XC\":\n",
        "    counter += 80\n",
        "  elif check == \"XL\":\n",
        "    counter += 30\n",
        "  else:\n",
        "    counter += my_dict[s[i]]\n",
        "print(counter)"
      ],
      "metadata": {
        "colab": {
          "base_uri": "https://localhost:8080/"
        },
        "id": "bO2zOj-M34Tb",
        "outputId": "aa249a52-0f21-40e5-9aa3-52229a414cf4"
      },
      "execution_count": 42,
      "outputs": [
        {
          "output_type": "stream",
          "name": "stdout",
          "text": [
            "MC\n",
            "CM\n",
            "MX\n",
            "XC\n",
            "CI\n",
            "IV\n",
            "1994\n"
          ]
        }
      ]
    },
    {
      "cell_type": "code",
      "source": [
        "print(my_dict[s[0]])"
      ],
      "metadata": {
        "colab": {
          "base_uri": "https://localhost:8080/"
        },
        "id": "WJKBDAar83oU",
        "outputId": "ac9f3562-87de-4f57-e86c-88ed07be20c7"
      },
      "execution_count": 32,
      "outputs": [
        {
          "output_type": "stream",
          "name": "stdout",
          "text": [
            "1000\n"
          ]
        }
      ]
    },
    {
      "cell_type": "code",
      "source": [
        "def roman_to_integer(s):\n",
        "  x = my_dict[s[0]]\n",
        "  counter = 0\n",
        "  counter += x\n",
        "  for i in range(1,len(s)):\n",
        "    char = s[i]\n",
        "    char_prev = s[i-1]\n",
        "    check = char_prev + char\n",
        "    if check == \"IV\":\n",
        "      counter += 3\n",
        "    elif check == \"IX\":\n",
        "      counter += 8\n",
        "    elif check == \"CM\":\n",
        "      counter += 800\n",
        "    elif check == \"CD\":\n",
        "      counter += 300\n",
        "    elif check == \"IX\":\n",
        "      counter += 8\n",
        "    elif check == \"XC\":\n",
        "      counter += 80\n",
        "    elif check == \"XL\":\n",
        "      counter += 30\n",
        "    else:\n",
        "      counter += my_dict[s[i]]\n",
        "  return counter"
      ],
      "metadata": {
        "id": "NQAvX6Id-bAU"
      },
      "execution_count": 43,
      "outputs": []
    },
    {
      "cell_type": "code",
      "source": [
        "s = \"III\"\n",
        "roman_to_integer(s)"
      ],
      "metadata": {
        "colab": {
          "base_uri": "https://localhost:8080/"
        },
        "id": "7aofviDg-r7v",
        "outputId": "fe87e2c0-ac2b-4c52-b960-533a5737daa8"
      },
      "execution_count": 44,
      "outputs": [
        {
          "output_type": "execute_result",
          "data": {
            "text/plain": [
              "3"
            ]
          },
          "metadata": {},
          "execution_count": 44
        }
      ]
    },
    {
      "cell_type": "code",
      "source": [
        "s = \"LVIII\"\n",
        "roman_to_integer(s)"
      ],
      "metadata": {
        "colab": {
          "base_uri": "https://localhost:8080/"
        },
        "id": "XhlsSPUM-yAP",
        "outputId": "7fb3a7c1-410d-41e5-a15d-93aae4813784"
      },
      "execution_count": 45,
      "outputs": [
        {
          "output_type": "execute_result",
          "data": {
            "text/plain": [
              "58"
            ]
          },
          "metadata": {},
          "execution_count": 45
        }
      ]
    }
  ]
}