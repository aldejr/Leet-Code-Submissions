{
  "nbformat": 4,
  "nbformat_minor": 0,
  "metadata": {
    "colab": {
      "provenance": []
    },
    "kernelspec": {
      "name": "python3",
      "display_name": "Python 3"
    },
    "language_info": {
      "name": "python"
    }
  },
  "cells": [
    {
      "cell_type": "code",
      "execution_count": 10,
      "metadata": {
        "colab": {
          "base_uri": "https://localhost:8080/"
        },
        "id": "QtyCanrWYsP1",
        "outputId": "c90f4595-2dbf-416b-95fe-91a101f43e97"
      },
      "outputs": [
        {
          "output_type": "stream",
          "name": "stdout",
          "text": [
            "[1, 2, 4]\n"
          ]
        }
      ],
      "source": [
        "digits = [1,2,3]\n",
        "\n",
        "new = int(''.join(map(str,digits)))\n",
        "new += 1\n",
        "out_list = list(str(new))\n",
        "out = list(map(int,out_list))\n",
        "print(out)"
      ]
    }
  ]
}